{
  "nbformat": 4,
  "nbformat_minor": 0,
  "metadata": {
    "colab": {
      "provenance": [],
      "toc_visible": true,
      "authorship_tag": "ABX9TyOa6jdmg47kY+xrdSWSRB5+"
    },
    "kernelspec": {
      "name": "python3",
      "display_name": "Python 3"
    },
    "language_info": {
      "name": "python"
    }
  },
  "cells": [
    {
      "cell_type": "markdown",
      "source": [
        "# Agentic RAG"
      ],
      "metadata": {
        "id": "L0gqvQ7lwYHP"
      }
    },
    {
      "cell_type": "markdown",
      "source": [],
      "metadata": {
        "id": "Ur9xScmb1nHw"
      }
    },
    {
      "cell_type": "code",
      "source": [
        "!pip install smolagents\n",
        "!pip install langchain\n",
        "!pip install duckduckgo-search\n",
        "!pip install bs4\n",
        "!pip install requests\n",
        "!pip install json"
      ],
      "metadata": {
        "colab": {
          "base_uri": "https://localhost:8080/"
        },
        "id": "N0IiA9Q1w6zd",
        "outputId": "b6815145-6957-49d4-f649-2caa0056b610"
      },
      "execution_count": 10,
      "outputs": [
        {
          "output_type": "stream",
          "name": "stdout",
          "text": [
            "Requirement already satisfied: smolagents in /usr/local/lib/python3.11/dist-packages (1.19.0)\n",
            "Requirement already satisfied: huggingface-hub>=0.31.2 in /usr/local/lib/python3.11/dist-packages (from smolagents) (0.33.0)\n",
            "Requirement already satisfied: requests>=2.32.3 in /usr/local/lib/python3.11/dist-packages (from smolagents) (2.32.3)\n",
            "Requirement already satisfied: rich>=13.9.4 in /usr/local/lib/python3.11/dist-packages (from smolagents) (13.9.4)\n",
            "Requirement already satisfied: jinja2>=3.1.4 in /usr/local/lib/python3.11/dist-packages (from smolagents) (3.1.6)\n",
            "Requirement already satisfied: pillow>=10.0.1 in /usr/local/lib/python3.11/dist-packages (from smolagents) (11.2.1)\n",
            "Requirement already satisfied: python-dotenv in /usr/local/lib/python3.11/dist-packages (from smolagents) (1.1.1)\n",
            "Requirement already satisfied: filelock in /usr/local/lib/python3.11/dist-packages (from huggingface-hub>=0.31.2->smolagents) (3.18.0)\n",
            "Requirement already satisfied: fsspec>=2023.5.0 in /usr/local/lib/python3.11/dist-packages (from huggingface-hub>=0.31.2->smolagents) (2025.3.2)\n",
            "Requirement already satisfied: packaging>=20.9 in /usr/local/lib/python3.11/dist-packages (from huggingface-hub>=0.31.2->smolagents) (24.2)\n",
            "Requirement already satisfied: pyyaml>=5.1 in /usr/local/lib/python3.11/dist-packages (from huggingface-hub>=0.31.2->smolagents) (6.0.2)\n",
            "Requirement already satisfied: tqdm>=4.42.1 in /usr/local/lib/python3.11/dist-packages (from huggingface-hub>=0.31.2->smolagents) (4.67.1)\n",
            "Requirement already satisfied: typing-extensions>=3.7.4.3 in /usr/local/lib/python3.11/dist-packages (from huggingface-hub>=0.31.2->smolagents) (4.14.0)\n",
            "Requirement already satisfied: hf-xet<2.0.0,>=1.1.2 in /usr/local/lib/python3.11/dist-packages (from huggingface-hub>=0.31.2->smolagents) (1.1.5)\n",
            "Requirement already satisfied: MarkupSafe>=2.0 in /usr/local/lib/python3.11/dist-packages (from jinja2>=3.1.4->smolagents) (3.0.2)\n",
            "Requirement already satisfied: charset-normalizer<4,>=2 in /usr/local/lib/python3.11/dist-packages (from requests>=2.32.3->smolagents) (3.4.2)\n",
            "Requirement already satisfied: idna<4,>=2.5 in /usr/local/lib/python3.11/dist-packages (from requests>=2.32.3->smolagents) (3.10)\n",
            "Requirement already satisfied: urllib3<3,>=1.21.1 in /usr/local/lib/python3.11/dist-packages (from requests>=2.32.3->smolagents) (2.4.0)\n",
            "Requirement already satisfied: certifi>=2017.4.17 in /usr/local/lib/python3.11/dist-packages (from requests>=2.32.3->smolagents) (2025.6.15)\n",
            "Requirement already satisfied: markdown-it-py>=2.2.0 in /usr/local/lib/python3.11/dist-packages (from rich>=13.9.4->smolagents) (3.0.0)\n",
            "Requirement already satisfied: pygments<3.0.0,>=2.13.0 in /usr/local/lib/python3.11/dist-packages (from rich>=13.9.4->smolagents) (2.19.2)\n",
            "Requirement already satisfied: mdurl~=0.1 in /usr/local/lib/python3.11/dist-packages (from markdown-it-py>=2.2.0->rich>=13.9.4->smolagents) (0.1.2)\n",
            "Requirement already satisfied: langchain in /usr/local/lib/python3.11/dist-packages (0.3.26)\n",
            "Requirement already satisfied: langchain-core<1.0.0,>=0.3.66 in /usr/local/lib/python3.11/dist-packages (from langchain) (0.3.66)\n",
            "Requirement already satisfied: langchain-text-splitters<1.0.0,>=0.3.8 in /usr/local/lib/python3.11/dist-packages (from langchain) (0.3.8)\n",
            "Requirement already satisfied: langsmith>=0.1.17 in /usr/local/lib/python3.11/dist-packages (from langchain) (0.4.1)\n",
            "Requirement already satisfied: pydantic<3.0.0,>=2.7.4 in /usr/local/lib/python3.11/dist-packages (from langchain) (2.11.7)\n",
            "Requirement already satisfied: SQLAlchemy<3,>=1.4 in /usr/local/lib/python3.11/dist-packages (from langchain) (2.0.41)\n",
            "Requirement already satisfied: requests<3,>=2 in /usr/local/lib/python3.11/dist-packages (from langchain) (2.32.3)\n",
            "Requirement already satisfied: PyYAML>=5.3 in /usr/local/lib/python3.11/dist-packages (from langchain) (6.0.2)\n",
            "Requirement already satisfied: tenacity!=8.4.0,<10.0.0,>=8.1.0 in /usr/local/lib/python3.11/dist-packages (from langchain-core<1.0.0,>=0.3.66->langchain) (8.5.0)\n",
            "Requirement already satisfied: jsonpatch<2.0,>=1.33 in /usr/local/lib/python3.11/dist-packages (from langchain-core<1.0.0,>=0.3.66->langchain) (1.33)\n",
            "Requirement already satisfied: packaging<25,>=23.2 in /usr/local/lib/python3.11/dist-packages (from langchain-core<1.0.0,>=0.3.66->langchain) (24.2)\n",
            "Requirement already satisfied: typing-extensions>=4.7 in /usr/local/lib/python3.11/dist-packages (from langchain-core<1.0.0,>=0.3.66->langchain) (4.14.0)\n",
            "Requirement already satisfied: httpx<1,>=0.23.0 in /usr/local/lib/python3.11/dist-packages (from langsmith>=0.1.17->langchain) (0.28.1)\n",
            "Requirement already satisfied: orjson<4.0.0,>=3.9.14 in /usr/local/lib/python3.11/dist-packages (from langsmith>=0.1.17->langchain) (3.10.18)\n",
            "Requirement already satisfied: requests-toolbelt<2.0.0,>=1.0.0 in /usr/local/lib/python3.11/dist-packages (from langsmith>=0.1.17->langchain) (1.0.0)\n",
            "Requirement already satisfied: zstandard<0.24.0,>=0.23.0 in /usr/local/lib/python3.11/dist-packages (from langsmith>=0.1.17->langchain) (0.23.0)\n",
            "Requirement already satisfied: annotated-types>=0.6.0 in /usr/local/lib/python3.11/dist-packages (from pydantic<3.0.0,>=2.7.4->langchain) (0.7.0)\n",
            "Requirement already satisfied: pydantic-core==2.33.2 in /usr/local/lib/python3.11/dist-packages (from pydantic<3.0.0,>=2.7.4->langchain) (2.33.2)\n",
            "Requirement already satisfied: typing-inspection>=0.4.0 in /usr/local/lib/python3.11/dist-packages (from pydantic<3.0.0,>=2.7.4->langchain) (0.4.1)\n",
            "Requirement already satisfied: charset-normalizer<4,>=2 in /usr/local/lib/python3.11/dist-packages (from requests<3,>=2->langchain) (3.4.2)\n",
            "Requirement already satisfied: idna<4,>=2.5 in /usr/local/lib/python3.11/dist-packages (from requests<3,>=2->langchain) (3.10)\n",
            "Requirement already satisfied: urllib3<3,>=1.21.1 in /usr/local/lib/python3.11/dist-packages (from requests<3,>=2->langchain) (2.4.0)\n",
            "Requirement already satisfied: certifi>=2017.4.17 in /usr/local/lib/python3.11/dist-packages (from requests<3,>=2->langchain) (2025.6.15)\n",
            "Requirement already satisfied: greenlet>=1 in /usr/local/lib/python3.11/dist-packages (from SQLAlchemy<3,>=1.4->langchain) (3.2.3)\n",
            "Requirement already satisfied: anyio in /usr/local/lib/python3.11/dist-packages (from httpx<1,>=0.23.0->langsmith>=0.1.17->langchain) (4.9.0)\n",
            "Requirement already satisfied: httpcore==1.* in /usr/local/lib/python3.11/dist-packages (from httpx<1,>=0.23.0->langsmith>=0.1.17->langchain) (1.0.9)\n",
            "Requirement already satisfied: h11>=0.16 in /usr/local/lib/python3.11/dist-packages (from httpcore==1.*->httpx<1,>=0.23.0->langsmith>=0.1.17->langchain) (0.16.0)\n",
            "Requirement already satisfied: jsonpointer>=1.9 in /usr/local/lib/python3.11/dist-packages (from jsonpatch<2.0,>=1.33->langchain-core<1.0.0,>=0.3.66->langchain) (3.0.0)\n",
            "Requirement already satisfied: sniffio>=1.1 in /usr/local/lib/python3.11/dist-packages (from anyio->httpx<1,>=0.23.0->langsmith>=0.1.17->langchain) (1.3.1)\n",
            "Requirement already satisfied: duckduckgo-search in /usr/local/lib/python3.11/dist-packages (8.0.4)\n",
            "Requirement already satisfied: click>=8.1.8 in /usr/local/lib/python3.11/dist-packages (from duckduckgo-search) (8.2.1)\n",
            "Requirement already satisfied: primp>=0.15.0 in /usr/local/lib/python3.11/dist-packages (from duckduckgo-search) (0.15.0)\n",
            "Requirement already satisfied: lxml>=5.3.0 in /usr/local/lib/python3.11/dist-packages (from duckduckgo-search) (5.4.0)\n",
            "Collecting bs4\n",
            "  Downloading bs4-0.0.2-py2.py3-none-any.whl.metadata (411 bytes)\n",
            "Requirement already satisfied: beautifulsoup4 in /usr/local/lib/python3.11/dist-packages (from bs4) (4.13.4)\n",
            "Requirement already satisfied: soupsieve>1.2 in /usr/local/lib/python3.11/dist-packages (from beautifulsoup4->bs4) (2.7)\n",
            "Requirement already satisfied: typing-extensions>=4.0.0 in /usr/local/lib/python3.11/dist-packages (from beautifulsoup4->bs4) (4.14.0)\n",
            "Downloading bs4-0.0.2-py2.py3-none-any.whl (1.2 kB)\n",
            "Installing collected packages: bs4\n",
            "Successfully installed bs4-0.0.2\n",
            "Requirement already satisfied: requests in /usr/local/lib/python3.11/dist-packages (2.32.3)\n",
            "Requirement already satisfied: charset-normalizer<4,>=2 in /usr/local/lib/python3.11/dist-packages (from requests) (3.4.2)\n",
            "Requirement already satisfied: idna<4,>=2.5 in /usr/local/lib/python3.11/dist-packages (from requests) (3.10)\n",
            "Requirement already satisfied: urllib3<3,>=1.21.1 in /usr/local/lib/python3.11/dist-packages (from requests) (2.4.0)\n",
            "Requirement already satisfied: certifi>=2017.4.17 in /usr/local/lib/python3.11/dist-packages (from requests) (2025.6.15)\n",
            "\u001b[31mERROR: Could not find a version that satisfies the requirement json (from versions: none)\u001b[0m\u001b[31m\n",
            "\u001b[0m\u001b[31mERROR: No matching distribution found for json\u001b[0m\u001b[31m\n",
            "\u001b[0m"
          ]
        }
      ]
    },
    {
      "cell_type": "code",
      "execution_count": 7,
      "metadata": {
        "colab": {
          "base_uri": "https://localhost:8080/"
        },
        "id": "bCLPbnxXtjJw",
        "outputId": "e02132f6-d32e-444e-e714-476d94a70b3f"
      },
      "outputs": [
        {
          "output_type": "stream",
          "name": "stdout",
          "text": [
            "## Search Results\n",
            "\n",
            "[Odyssey - Wikipedia](https://en.wikipedia.org/wiki/Odyssey)\n",
            "The Odyssey (/ ˈ ɒ d ɪ s i /; [1] Ancient Greek: Ὀδύσσεια, romanized: Odýsseia) [2] [3] is one of two major epics of ancient Greek literature attributed to Homer.It is one of the oldest surviving works of literature and remains popular with modern audiences. Like the Iliad, the Odyssey is divided into 24 books.It follows the heroic king of Ithaca, Odysseus, also known by the Latin ...\n",
            "\n",
            "[Odyssey | Summary, Characters, Meaning, & Facts | Britannica](https://www.britannica.com/topic/Odyssey-epic-by-Homer)\n",
            "Scholars date the writing of the Odyssey to about 725-675 bce.The poem was intended for oral performance. It was composed of 12,109 lines written in dactylic hexameter (sometimes referred to as \"Homeric hexameter\")—that is, each line consisted of six feet, or metrical units, and each foot consisted of a dactyl (a stressed syllable followed by two unstressed syllables).\n",
            "\n",
            "[Odyssey: Homer's Epic Poem of Redemption - World History Encyclopedia](https://www.worldhistory.org/Odyssey/)\n",
            "Background. The Odyssey, written sometime in the 8th century BCE (although some scholars would place it in the 6th century BCE), is an epic poem of more than 12,000 lines organised by scholars in Alexandria into 24 books. The Greeks thought its author Homer was from Chios or Ionia and credited him with both this book and its prequel the Iliad, the two masterpieces of Greek literature.\n",
            "\n",
            "[Homer: Biography, Greek Poet, The Iliad, The Odyssey](https://www.biography.com/authors-writers/homer)\n",
            "The two narrative poems pop up throughout modern literature: Homer's The Odyssey has parallels in James Joyce's Ulysses, and his tale of Achilles in The Iliad is echoed in J.R.R. Tolkien's The ...\n",
            "\n",
            "[Homer - Ancient Greek Poet - Works, Poems & Facts - Ancient Literature](https://ancient-literature.com/greece_homer/)\n",
            "Homer is traditionally held to be the author of the ancient Greek epic poems \"The Iliad\" and \"The Odyssey\" , widely thought to be the first extant works of Western literature.He is considered by many to be the earliest and most important of all the Greek writers, and the progenitor of the whole Western literary tradition.. He was a poetic pioneer who stood at a pivotal point in the ...\n",
            "\n",
            "[Homer: The Odyssey - Poetry In Translation](https://www.poetryintranslation.com/PITBR/Greek/Odhome.php)\n",
            "The Odyssey, the second of the epic texts attributed to Homer, and also a major founding work of European literature, is usually dated to around the 8th century BC. It is an epic poem, effectively a sequel to the Iliad, written in Ancient Greek but assumed to be derived from earlier oral sources, telling the story of Odysseus' wanderings and ...\n",
            "\n",
            "[Who wrote \"The Odyssey\"? - Brainly.com](https://brainly.com/question/57874803)\n",
            "Final answer: The Odyssey was written by Homer, an ancient Greek poet.. Overview of The Odyssey. The Odyssey is an epic poem that tells the story of the Greek hero Odysseus and his journey home after the fall of Troy. This poem is traditionally dated to around the 8th century BCE and is considered one of the foundational works of Western literature.\n",
            "\n",
            "[Homer and the epic poems the Iliad and the Odyssey | Britannica](https://www.britannica.com/summary/Homer-Greek-poet)\n",
            "Homer, (flourished 9th or 8th century bce, Ionia?), ancient Greek poet, presumed author of the Iliad and the Odyssey.Though almost nothing is known of his life, tradition holds that Homer was blind. The ancient Greeks attributed to him the great epic poems the Iliad and the Odyssey.Modern scholars generally agree that he composed (but was not the original creator of) the Iliad, most likely ...\n",
            "\n",
            "[Odyssey - Wikiwand](https://www.wikiwand.com/en/articles/Odyssey)\n",
            "The Odyssey was first written down in Homeric Greek around the 8th or 7th century BC; by the mid-6th century BC, it had become part of the Greek literary canon. In antiquity, Homer's authorship was taken as true, but contemporary scholarship predominantly assumes that the Iliad and the Odyssey were composed independently, forming as part of long oral traditions.\n",
            "\n",
            "[Homer - Wikipedia](https://en.wikipedia.org/wiki/Homer)\n",
            "Homer (/ ˈ h oʊ m ər /; Ancient Greek: Ὅμηρος [hómɛːros], Hómēros; possibly born c. the 8th century BCE) was an Ancient Greek poet who is credited as the author of the Iliad and the Odyssey, two epic poems that are foundational works of ancient Greek literature.Despite doubts about his authorship, Homer is considered one of the most revered and influential authors in history.\n"
          ]
        }
      ],
      "source": [
        "import os\n",
        "from smolagents import DuckDuckGoSearchTool\n",
        "\n",
        "search_tool = DuckDuckGoSearchTool()\n",
        "output = search_tool(\"Who wrote odyssey poem?\")\n",
        "\n",
        "print(output)"
      ]
    },
    {
      "cell_type": "code",
      "source": [
        "from langchain.tools import Tool\n",
        "from bs4 import BeautifulSoup as bs\n",
        "\n",
        "import requests\n",
        "import json\n",
        "import os\n",
        "\n",
        "def get_vulnerability_report(input: str) -> str:\n",
        "  \"\"\"Grab today's vulnerability report from CVE\"\"\"\n",
        "  url = f\"https://www.cve.org/CVERecord/SearchResults?query={input}\"\n",
        "  data = requests.get(url)\n",
        "  soup = bs(data.text, 'html.parser')\n",
        "  table = soup.find('table')\n",
        "  return f\"{table}\"\n",
        "\n",
        "cve_info_tool = Tool(\n",
        "    name=\"get_vulnerability_report\",\n",
        "    description=\"Grab today's vulnerability report from CVE\",\n",
        "    func=get_vulnerability_report\n",
        ")"
      ],
      "metadata": {
        "id": "llVtt1d_ylrL"
      },
      "execution_count": 12,
      "outputs": []
    }
  ]
}