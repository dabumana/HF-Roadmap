# Smolagent foundamentals
### Library installation
!pip install smolagents

### Inference client
import os
from smolagents import CodeAgent, InferenceClientModel

model_id = "meta-llama/Llama-3.3-70B-Instruct"
model = InferenceClientModel(model_id, token=os.environ.get("HF_TOKEN"))

agent = CodeAgent(tools=[], model=model, add_base_tools=True, additional_authorized_imports=['requests', 'bs4'])

agent.run(
    "Elaborate more about the contemporary literature for year 2025 use a prompt to grab information from google url https://www.google.com"
)
